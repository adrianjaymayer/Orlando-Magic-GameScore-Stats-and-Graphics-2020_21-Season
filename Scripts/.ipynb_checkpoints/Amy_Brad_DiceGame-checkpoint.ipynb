{
 "cells": [
  {
   "cell_type": "code",
   "execution_count": 47,
   "metadata": {},
   "outputs": [
    {
     "name": "stdout",
     "output_type": "stream",
     "text": [
      "Amy wins 0.5455 of the time. Brad wins 0.4545 of the time.\n"
     ]
    }
   ],
   "source": [
    "import numpy as np\n",
    "   \n",
    "amy = 0 # initialize Amy probability\n",
    "    \n",
    "brad = 0 # initialize Brad probability\n",
    "    \n",
    "for i in range (0,100,1): # create an iteration \n",
    "        \n",
    "        percent_win = (.166666) * (.833333**i)\n",
    "        \n",
    "        if i%2 == 0:\n",
    "                \n",
    "                amy += percent_win  #Amy wins on the 1,3,5,etc.\n",
    "        \n",
    "        \n",
    "        else:   # if Amy does not win, then Brad must win\n",
    "            \n",
    "                brad += percent_win #Brad wins on the 2,4,6, etc.\n",
    "                \n",
    "        i += 1\n",
    "                \n",
    "print(\"Amy wins \" + str(format(amy, '.4f')) +\" of the time. Brad wins \" + str(format(brad,'.4f') + \" of the time.\"))\n"
   ]
  },
  {
   "cell_type": "code",
   "execution_count": null,
   "metadata": {},
   "outputs": [],
   "source": []
  }
 ],
 "metadata": {
  "kernelspec": {
   "display_name": "Python 3",
   "language": "python",
   "name": "python3"
  },
  "language_info": {
   "codemirror_mode": {
    "name": "ipython",
    "version": 3
   },
   "file_extension": ".py",
   "mimetype": "text/x-python",
   "name": "python",
   "nbconvert_exporter": "python",
   "pygments_lexer": "ipython3",
   "version": "3.8.6"
  }
 },
 "nbformat": 4,
 "nbformat_minor": 4
}
